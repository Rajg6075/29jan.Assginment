{
 "cells": [
  {
   "cell_type": "code",
   "execution_count": null,
   "id": "6f2e96d7-d27f-4283-bc1d-faab0798fa88",
   "metadata": {},
   "outputs": [],
   "source": [
    "Q1. Who developed python programming language?\n",
    "ans= Python was developed by Guido van Rossum."
   ]
  },
  {
   "cell_type": "code",
   "execution_count": null,
   "id": "95afe528-e2a9-42ed-9169-c8f1c4a42bed",
   "metadata": {},
   "outputs": [],
   "source": [
    "Q2. Which type of programming does Python support?\n",
    "ans= Object-oriented programming and structured programming are fully supported by python."
   ]
  },
  {
   "cell_type": "code",
   "execution_count": null,
   "id": "de7a7495-5476-49c9-b423-410e13fdfed2",
   "metadata": {},
   "outputs": [],
   "source": [
    "Q3. Is python case sensitive when dealing with Identifiers?\n",
    "ans= Yes, Python is a case-sensitive language, so identifiers are case-sensitive."
   ]
  },
  {
   "cell_type": "code",
   "execution_count": null,
   "id": "ece92bd5-eb0f-4b11-bdb0-66cdb2a0060b",
   "metadata": {},
   "outputs": [],
   "source": [
    "Q4. what is the correct extension of the python file?\n",
    "ans= (.py) is the correct extension of the python file."
   ]
  },
  {
   "cell_type": "code",
   "execution_count": null,
   "id": "7232f462-adb8-4f8f-a348-1f0f35149d0f",
   "metadata": {},
   "outputs": [],
   "source": [
    "Q5. Is python code compiled or interpreted?\n",
    "ans= Python is both compiled as well as an interpreted language, It is first compiled and then interpreted line by line. "
   ]
  },
  {
   "cell_type": "code",
   "execution_count": null,
   "id": "0a7b802b-0de2-481f-b523-35fa2d245ad8",
   "metadata": {},
   "outputs": [],
   "source": [
    "Q6. Name a few blocks of code used to define in python language?\n",
    "ans= A module, A function body, and A class definition."
   ]
  },
  {
   "cell_type": "code",
   "execution_count": null,
   "id": "a68bf18d-6859-41fa-bf96-b5a59e4eb2a0",
   "metadata": {},
   "outputs": [],
   "source": [
    "Q7. State a character used to give single-line comments in python?\n",
    "ans= In Python, we use the hash symbol \"#\" to write a single-line comment."
   ]
  },
  {
   "cell_type": "code",
   "execution_count": null,
   "id": "1704d8e2-219e-467f-8ab9-6d6266598fd7",
   "metadata": {},
   "outputs": [],
   "source": [
    "Q8. Mention function which can help us to find the version of python that we are currently working on?\n",
    "ans= The function sys. version can help us to find the version of python that we are currently working on."
   ]
  },
  {
   "cell_type": "code",
   "execution_count": null,
   "id": "38bd961e-6229-4f39-b109-68e8681ee610",
   "metadata": {},
   "outputs": [],
   "source": [
    "Q9. Python supports the creation of anonumous functions at runtime,using a construct called\n",
    "ans= lambda."
   ]
  },
  {
   "cell_type": "code",
   "execution_count": null,
   "id": "e3a0fce0-12ec-4cf7-9876-3c3fe27b7911",
   "metadata": {},
   "outputs": [],
   "source": [
    "Q10. What does pip stand for python?\n",
    "ans= Preferred Installer Program"
   ]
  },
  {
   "cell_type": "code",
   "execution_count": null,
   "id": "4df4c4ed-0b94-4113-839b-8a1b0c176042",
   "metadata": {},
   "outputs": [],
   "source": [
    "Q11. Mention a few built-in functions in python?\n",
    "ans= type() function. \n",
    "print() function.\n",
    "input() function. \n",
    "abs() function.\n",
    "pow() function. \n",
    "dir() function."
   ]
  },
  {
   "cell_type": "code",
   "execution_count": null,
   "id": "5a32a9ae-7efe-456b-944b-77c966ea5678",
   "metadata": {},
   "outputs": [],
   "source": [
    "Q12. What is the maximum possible length of an identifier in python?\n",
    "ans= 79 characters"
   ]
  },
  {
   "cell_type": "code",
   "execution_count": null,
   "id": "ef8ed390-d343-4c8c-be36-1184c81057da",
   "metadata": {},
   "outputs": [],
   "source": [
    "Q13. What are the benifts of using python?\n",
    "ans= User-friendly data structures.\n",
    "High-level language."
   ]
  },
  {
   "cell_type": "code",
   "execution_count": null,
   "id": "a1ff3124-276d-4126-a58e-80f0c714167c",
   "metadata": {},
   "outputs": [],
   "source": [
    "Q14. how is memory managed in python?\n",
    "ans= Memory management in Python involves a private heap containing all Python objects and data structures"
   ]
  },
  {
   "cell_type": "code",
   "execution_count": null,
   "id": "eca55000-d3e8-4aa5-a43b-1d0830fe60a8",
   "metadata": {},
   "outputs": [],
   "source": [
    "Q15. How to install Python on window and set path variables?\n",
    "ans= Step 1: Select Version of Python to Install.\n",
    "Step 2: Download Python Executable Installer.\n",
    "Step 3: Run Executable Installer.\n",
    "Step 4: Verify Python Was Installed On Windows.\n",
    "Step 5: Verify Pip Was Installed.\n",
    "Step 6: Add Python Path to Environment Variables \n",
    "Step 7: Check path set in cmd command"
   ]
  },
  {
   "cell_type": "code",
   "execution_count": null,
   "id": "f5390ddf-132f-4ea3-9392-541739c05398",
   "metadata": {},
   "outputs": [],
   "source": [
    "Q16. Is identation required in  python?\n",
    "ans="
   ]
  },
  {
   "cell_type": "code",
   "execution_count": null,
   "id": "64bb2b4b-e581-4aef-b9a0-7dfe880f15dc",
   "metadata": {},
   "outputs": [],
   "source": []
  },
  {
   "cell_type": "code",
   "execution_count": null,
   "id": "0a440985-7104-46b1-be23-811d947cc13f",
   "metadata": {},
   "outputs": [],
   "source": []
  },
  {
   "cell_type": "code",
   "execution_count": null,
   "id": "db2311a2-d0f5-4c2a-904f-66904a005131",
   "metadata": {},
   "outputs": [],
   "source": []
  }
 ],
 "metadata": {
  "kernelspec": {
   "display_name": "Python 3 (ipykernel)",
   "language": "python",
   "name": "python3"
  },
  "language_info": {
   "codemirror_mode": {
    "name": "ipython",
    "version": 3
   },
   "file_extension": ".py",
   "mimetype": "text/x-python",
   "name": "python",
   "nbconvert_exporter": "python",
   "pygments_lexer": "ipython3",
   "version": "3.10.8"
  }
 },
 "nbformat": 4,
 "nbformat_minor": 5
}
